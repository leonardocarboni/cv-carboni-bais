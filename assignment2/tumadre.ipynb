{
 "cells": [
  {
   "cell_type": "code",
   "execution_count": 3,
   "metadata": {},
   "outputs": [],
   "source": [
    "import cv2 as cv\n",
    "import va\n",
    "from ipywidgets import interact\n",
    "import numpy as np"
   ]
  },
  {
   "cell_type": "code",
   "execution_count": 4,
   "metadata": {},
   "outputs": [],
   "source": [
    "num_frames = 20\n",
    "background_pixels = np.zeros((486, 644, 3), dtype=np.float32)\n",
    "bg_list = []\n",
    "for camera_i in range(1, 5):\n",
    "    background_pixels = np.zeros((486, 644, 3), dtype=np.float32)\n",
    "    with np.load(f'./data/cam{camera_i}/config.npz') as file:\n",
    "        camera_matrix, dist_coeffs, rvec_extr, tvec_extr, R = [file[i] for i in [\n",
    "            'camera_matrix', 'dist_coeffs', 'rvec_extr', 'tvec_extr', 'R']]\n",
    "        cap = cv.VideoCapture(f\"./data/cam{camera_i}/background.avi\")\n",
    "        for n_frame in range(num_frames):\n",
    "            retF, frame = cap.read()\n",
    "            if retF:\n",
    "                height, width, channels = frame.shape\n",
    "                for y in range(0, height):\n",
    "                    for x in range(0, width):\n",
    "                        background_pixels[y, x] += frame[y, x]\n",
    "\n",
    "        cap.release()\n",
    "\n",
    "        background_pixels = np.array(background_pixels / num_frames, dtype=np.uint8)\n",
    "        bg_list.append(background_pixels)\n"
   ]
  },
  {
   "cell_type": "code",
   "execution_count": 11,
   "metadata": {},
   "outputs": [
    {
     "data": {
      "application/vnd.jupyter.widget-view+json": {
       "model_id": "f0989418ac2f4297b10c28c4ac202362",
       "version_major": 2,
       "version_minor": 0
      },
      "text/plain": [
       "interactive(children=(IntSlider(value=1, description='camId', max=4, min=1), IntSlider(value=0, description='h…"
      ]
     },
     "metadata": {},
     "output_type": "display_data"
    }
   ],
   "source": [
    "@interact(camId=(1, 4), h_tresh1=(0, 256), s_tresh1=(0, 256), v_tresh1=(0, 256), h_tresh2=(0, 256), s_tresh2=(0, 256), v_tresh2=(0, 256))\n",
    "def test_openclose(camId=1, h_tresh1=0, h_tresh2=0, s_tresh1=0, s_tresh2=0, v_tresh1=0, v_tresh2=0):\n",
    "    path = f\"./data/cam{camId}/video.avi\"\n",
    "    cap = cv.VideoCapture(path)\n",
    "    ret, frame = cap.read()\n",
    "    cap.release()\n",
    "    frame_hsv = cv.cvtColor(frame, cv.COLOR_BGR2HSV)\n",
    "    w, h, _ = frame.shape\n",
    "    mask = np.zeros((w, h), dtype=np.uint8)\n",
    "    background_pixels_hsv = cv.cvtColor(background_pixels, cv.COLOR_BGR2HSV)\n",
    "    foreground_hsv = cv.absdiff(frame_hsv, background_pixels_hsv)\n",
    "    thresh = 30\n",
    "    # cv.imshow('foreground_gray', foreground_hsv)\n",
    "    # cv.waitKey(0)\n",
    "    # cv.destroyAllWindows()\n",
    "    #foreground_hsv = cv.inRange(foreground_hsv, (0, 0, thresh), (180, 100, 100))\n",
    "    # _, mask = cv.threshold(foreground_gray,thresh,255,cv.THRESH_BINARY)\n",
    "    for x in range(foreground_hsv.shape[0]):\n",
    "        for y in range(foreground_hsv.shape[1]):\n",
    "            if foreground_hsv[x, y, 0] in range(h_tresh1, h_tresh2) and foreground_hsv[x, y, 1] in range(s_tresh1, s_tresh2) and foreground_hsv[x, y, 2] in range(v_tresh1, v_tresh2):\n",
    "                mask[x, y] = 255\n",
    "\n",
    "    contours, hierarchy = cv.findContours(\n",
    "        image=mask, mode=cv.RETR_TREE, method=cv.CHAIN_APPROX_NONE)\n",
    "    frame_copy = frame.copy()\n",
    "    cv.drawContours(image=frame_copy, contours=contours, contourIdx=-1,\n",
    "                    color=(0, 255, 0), thickness=2, lineType=cv.LINE_AA)\n",
    "\n",
    "    va.show(frame_copy)\n"
   ]
  },
  {
   "cell_type": "code",
   "execution_count": null,
   "metadata": {},
   "outputs": [],
   "source": []
  }
 ],
 "metadata": {
  "kernelspec": {
   "display_name": "cv",
   "language": "python",
   "name": "python3"
  },
  "language_info": {
   "codemirror_mode": {
    "name": "ipython",
    "version": 3
   },
   "file_extension": ".py",
   "mimetype": "text/x-python",
   "name": "python",
   "nbconvert_exporter": "python",
   "pygments_lexer": "ipython3",
   "version": "3.8.10"
  },
  "orig_nbformat": 4,
  "vscode": {
   "interpreter": {
    "hash": "6320547eebbc211b38dd81233c8af2bf80fd9259977cfd7d3336fb7bfe5a4a52"
   }
  }
 },
 "nbformat": 4,
 "nbformat_minor": 2
}
